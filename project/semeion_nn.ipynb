{
 "cells": [
  {
   "cell_type": "code",
   "execution_count": 1,
   "metadata": {},
   "outputs": [],
   "source": [
    "# import required libraries\n",
    "import numpy as np\n",
    "import matplotlib.pyplot as plt\n",
    "import tensorflow as tf\n",
    "from tensorflow import keras\n",
    "from tensorflow.keras import layers\n",
    "import math\n",
    "import random\n",
    "\n",
    "# fix to kernel dying bug\n",
    "import os \n",
    "os.environ['KMP_DUPLICATE_LIB_OK']='True'"
   ]
  },
  {
   "cell_type": "code",
   "execution_count": 2,
   "metadata": {},
   "outputs": [],
   "source": [
    "# data is from Semeion Handwritten Digit Data Set (https://archive.ics.uci.edu/ml/datasets/Semeion+Handwritten+Digit)\n",
    "\n",
    "# loading the data\n",
    "with open('./semeion.data') as dfile:\n",
    "    data = dfile.readlines()"
   ]
  },
  {
   "cell_type": "code",
   "execution_count": 3,
   "metadata": {},
   "outputs": [],
   "source": [
    "# cleaning data\n",
    "np_data = []\n",
    "for d in data:\n",
    "    np_data.append(np.array([float(i) for i in d.split()], dtype=int))\n",
    "np_data = np.array(np_data)"
   ]
  },
  {
   "cell_type": "code",
   "execution_count": 4,
   "metadata": {},
   "outputs": [
    {
     "data": {
      "image/png": "[encoded data removed]",
      "text/plain": [
       "<Figure size 432x288 with 1 Axes>"
      ]
     },
     "metadata": {
      "needs_background": "light"
     },
     "output_type": "display_data"
    },
    {
     "name": "stdout",
     "output_type": "stream",
     "text": [
      "is a 4\n"
     ]
    }
   ],
   "source": [
    "# understanding the data\n",
    "def print_drawing(drawing):\n",
    "    plt.imshow(drawing[:-10].reshape((16,16)), cmap='Greys')\n",
    "    plt.axis('off')\n",
    "    plt.show()\n",
    "    \n",
    "    print(\"is a\", np.where(drawing[-10:] == 1)[0][0])\n",
    "\n",
    "print_drawing(np_data[random.randint(0, len(np_data))])"
   ]
  },
  {
   "cell_type": "code",
   "execution_count": 27,
   "metadata": {},
   "outputs": [],
   "source": [
    "# randomizing the data\n",
    "np.random.shuffle(np_data)\n",
    "\n",
    "# splitting into test and train\n",
    "train_percent = 0.8\n",
    "\n",
    "cutoff = math.floor(len(np_data) * train_percent)\n",
    "X_train = np.array([d[:-10] for d in np_data[:cutoff]])\n",
    "Y_train = np.array([d[-10:] for d in np_data[:cutoff]])\n",
    "X_test = np.array([d[:-10] for d in np_data[cutoff:]])\n",
    "Y_test = np.array([d[-10:] for d in np_data[cutoff:]])"
   ]
  },
  {
   "cell_type": "code",
   "execution_count": 28,
   "metadata": {},
   "outputs": [],
   "source": [
    "# building out the model\n",
    "model = keras.models.Sequential()\n",
    "\n",
    "# adding the first hidden layer\n",
    "model.add(layers.Dense(1024, input_shape=(256,)))\n",
    "model.add(layers.Activation('relu'))                            \n",
    "model.add(layers.Dropout(0.2))\n",
    "\n",
    "# adding the second hidden layer\n",
    "model.add(layers.Dense(1024))\n",
    "model.add(layers.Activation('relu'))\n",
    "model.add(layers.Dropout(0.2))\n",
    "\n",
    "# adding the output layer\n",
    "model.add(layers.Dense(10))\n",
    "model.add(layers.Activation('softmax'))"
   ]
  },
  {
   "cell_type": "code",
   "execution_count": 29,
   "metadata": {},
   "outputs": [],
   "source": [
    "# compiling the model\n",
    "model.compile(loss='categorical_crossentropy', metrics=['accuracy'], optimizer='adam')"
   ]
  },
  {
   "cell_type": "code",
   "execution_count": 30,
   "metadata": {},
   "outputs": [
    {
     "name": "stdout",
     "output_type": "stream",
     "text": [
      "Train on 1274 samples, validate on 319 samples\n",
      "Epoch 1/40\n",
      "1274/1274 - 1s - loss: 1.3285 - accuracy: 0.5879 - val_loss: 0.4723 - val_accuracy: 0.8433\n",
      "Epoch 2/40\n",
      "1274/1274 - 0s - loss: 0.3411 - accuracy: 0.8901 - val_loss: 0.3074 - val_accuracy: 0.8809\n",
      "Epoch 3/40\n",
      "1274/1274 - 0s - loss: 0.1714 - accuracy: 0.9458 - val_loss: 0.2502 - val_accuracy: 0.9060\n",
      "Epoch 4/40\n",
      "1274/1274 - 0s - loss: 0.1005 - accuracy: 0.9608 - val_loss: 0.2335 - val_accuracy: 0.9154\n",
      "Epoch 5/40\n",
      "1274/1274 - 0s - loss: 0.0587 - accuracy: 0.9835 - val_loss: 0.1732 - val_accuracy: 0.9342\n",
      "Epoch 6/40\n",
      "1274/1274 - 0s - loss: 0.0366 - accuracy: 0.9922 - val_loss: 0.1900 - val_accuracy: 0.9467\n",
      "Epoch 7/40\n",
      "1274/1274 - 0s - loss: 0.0201 - accuracy: 0.9969 - val_loss: 0.1562 - val_accuracy: 0.9436\n",
      "Epoch 8/40\n",
      "1274/1274 - 0s - loss: 0.0129 - accuracy: 0.9984 - val_loss: 0.1724 - val_accuracy: 0.9373\n",
      "Epoch 9/40\n",
      "1274/1274 - 0s - loss: 0.0094 - accuracy: 0.9992 - val_loss: 0.1403 - val_accuracy: 0.9498\n",
      "Epoch 10/40\n",
      "1274/1274 - 0s - loss: 0.0075 - accuracy: 1.0000 - val_loss: 0.1902 - val_accuracy: 0.9279\n",
      "Epoch 11/40\n",
      "1274/1274 - 0s - loss: 0.0060 - accuracy: 1.0000 - val_loss: 0.1375 - val_accuracy: 0.9561\n",
      "Epoch 12/40\n",
      "1274/1274 - 0s - loss: 0.0049 - accuracy: 0.9992 - val_loss: 0.1911 - val_accuracy: 0.9342\n",
      "Epoch 13/40\n",
      "1274/1274 - 0s - loss: 0.0041 - accuracy: 1.0000 - val_loss: 0.1380 - val_accuracy: 0.9561\n",
      "Epoch 14/40\n",
      "1274/1274 - 0s - loss: 0.0030 - accuracy: 1.0000 - val_loss: 0.1706 - val_accuracy: 0.9404\n",
      "Epoch 15/40\n",
      "1274/1274 - 0s - loss: 0.0022 - accuracy: 1.0000 - val_loss: 0.1441 - val_accuracy: 0.9530\n",
      "Epoch 16/40\n",
      "1274/1274 - 0s - loss: 0.0019 - accuracy: 1.0000 - val_loss: 0.1437 - val_accuracy: 0.9498\n",
      "Epoch 17/40\n",
      "1274/1274 - 0s - loss: 0.0021 - accuracy: 1.0000 - val_loss: 0.1567 - val_accuracy: 0.9561\n",
      "Epoch 18/40\n",
      "1274/1274 - 0s - loss: 0.0023 - accuracy: 1.0000 - val_loss: 0.1504 - val_accuracy: 0.9404\n",
      "Epoch 19/40\n",
      "1274/1274 - 0s - loss: 0.0016 - accuracy: 1.0000 - val_loss: 0.1488 - val_accuracy: 0.9561\n",
      "Epoch 20/40\n",
      "1274/1274 - 0s - loss: 0.0016 - accuracy: 1.0000 - val_loss: 0.1477 - val_accuracy: 0.9561\n",
      "Epoch 21/40\n",
      "1274/1274 - 0s - loss: 0.0013 - accuracy: 1.0000 - val_loss: 0.1561 - val_accuracy: 0.9436\n",
      "Epoch 22/40\n",
      "1274/1274 - 0s - loss: 0.0011 - accuracy: 1.0000 - val_loss: 0.1496 - val_accuracy: 0.9530\n",
      "Epoch 23/40\n",
      "1274/1274 - 0s - loss: 9.9786e-04 - accuracy: 1.0000 - val_loss: 0.1411 - val_accuracy: 0.9561\n",
      "Epoch 24/40\n",
      "1274/1274 - 0s - loss: 0.0011 - accuracy: 1.0000 - val_loss: 0.1609 - val_accuracy: 0.9530\n",
      "Epoch 25/40\n",
      "1274/1274 - 0s - loss: 8.4606e-04 - accuracy: 1.0000 - val_loss: 0.1614 - val_accuracy: 0.9467\n",
      "Epoch 26/40\n",
      "1274/1274 - 0s - loss: 7.9764e-04 - accuracy: 1.0000 - val_loss: 0.1436 - val_accuracy: 0.9498\n",
      "Epoch 27/40\n",
      "1274/1274 - 0s - loss: 6.0251e-04 - accuracy: 1.0000 - val_loss: 0.1427 - val_accuracy: 0.9467\n",
      "Epoch 28/40\n",
      "1274/1274 - 0s - loss: 7.4044e-04 - accuracy: 1.0000 - val_loss: 0.1482 - val_accuracy: 0.9530\n",
      "Epoch 29/40\n",
      "1274/1274 - 0s - loss: 0.0011 - accuracy: 1.0000 - val_loss: 0.1895 - val_accuracy: 0.9404\n",
      "Epoch 30/40\n",
      "1274/1274 - 0s - loss: 8.2073e-04 - accuracy: 1.0000 - val_loss: 0.1526 - val_accuracy: 0.9561\n",
      "Epoch 31/40\n",
      "1274/1274 - 0s - loss: 0.0011 - accuracy: 1.0000 - val_loss: 0.1730 - val_accuracy: 0.9436\n",
      "Epoch 32/40\n",
      "1274/1274 - 0s - loss: 0.0013 - accuracy: 1.0000 - val_loss: 0.1494 - val_accuracy: 0.9467\n",
      "Epoch 33/40\n",
      "1274/1274 - 0s - loss: 0.0011 - accuracy: 1.0000 - val_loss: 0.1715 - val_accuracy: 0.9342\n",
      "Epoch 34/40\n",
      "1274/1274 - 0s - loss: 0.0010 - accuracy: 1.0000 - val_loss: 0.1610 - val_accuracy: 0.9561\n",
      "Epoch 35/40\n",
      "1274/1274 - 0s - loss: 7.8806e-04 - accuracy: 1.0000 - val_loss: 0.1545 - val_accuracy: 0.9467\n",
      "Epoch 36/40\n",
      "1274/1274 - 0s - loss: 6.4619e-04 - accuracy: 1.0000 - val_loss: 0.1696 - val_accuracy: 0.9467\n",
      "Epoch 37/40\n",
      "1274/1274 - 0s - loss: 5.5323e-04 - accuracy: 1.0000 - val_loss: 0.1656 - val_accuracy: 0.9467\n",
      "Epoch 38/40\n",
      "1274/1274 - 0s - loss: 4.6082e-04 - accuracy: 1.0000 - val_loss: 0.1606 - val_accuracy: 0.9530\n",
      "Epoch 39/40\n",
      "1274/1274 - 0s - loss: 3.5501e-04 - accuracy: 1.0000 - val_loss: 0.1574 - val_accuracy: 0.9561\n",
      "Epoch 40/40\n",
      "1274/1274 - 0s - loss: 3.8538e-04 - accuracy: 1.0000 - val_loss: 0.1587 - val_accuracy: 0.9592\n"
     ]
    }
   ],
   "source": [
    "# training the model\n",
    "history = model.fit(X_train, Y_train,\n",
    "          batch_size=128, epochs=40,\n",
    "          verbose=2,\n",
    "          validation_data=(X_test, Y_test))"
   ]
  },
  {
   "cell_type": "code",
   "execution_count": 73,
   "metadata": {},
   "outputs": [
    {
     "data": {
      "image/png": "[encoded data removed]",
      "text/plain": [
       "<Figure size 432x288 with 1 Axes>"
      ]
     },
     "metadata": {
      "needs_background": "light"
     },
     "output_type": "display_data"
    },
    {
     "name": "stdout",
     "output_type": "stream",
     "text": [
      "is a 6\n",
      "\n",
      "model predicted 6\n"
     ]
    }
   ],
   "source": [
    "# testing\n",
    "i = random.randint(0, len(X_test))\n",
    "\n",
    "plt.imshow(X_test[i].reshape((16,16)), cmap='Greys')\n",
    "plt.axis('off')\n",
    "plt.show()\n",
    "\n",
    "print(\"is a\", np.where(Y_test[i] == 1)[0][0])\n",
    "print()\n",
    "\n",
    "prediction = model.predict(X_test)[i]\n",
    "print(\"model predicted\", np.argmax(prediction))"
   ]
  }
 ],
 "metadata": {
  "kernelspec": {
   "display_name": "Python 3",
   "language": "python",
   "name": "python3"
  },
  "language_info": {
   "codemirror_mode": {
    "name": "ipython",
    "version": 3
   },
   "file_extension": ".py",
   "mimetype": "text/x-python",
   "name": "python",
   "nbconvert_exporter": "python",
   "pygments_lexer": "ipython3",
   "version": "3.7.9"
  }
 },
 "nbformat": 4,
 "nbformat_minor": 4
}
